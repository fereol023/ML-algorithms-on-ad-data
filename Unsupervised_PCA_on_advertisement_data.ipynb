{
  "nbformat": 4,
  "nbformat_minor": 0,
  "metadata": {
    "colab": {
      "provenance": [],
      "collapsed_sections": [],
      "authorship_tag": "ABX9TyM/7iPcWU150d5nkSzM4Jyj",
      "include_colab_link": true
    },
    "kernelspec": {
      "name": "python3",
      "display_name": "Python 3"
    },
    "language_info": {
      "name": "python"
    }
  },
  "cells": [
    {
      "cell_type": "markdown",
      "metadata": {
        "id": "view-in-github",
        "colab_type": "text"
      },
      "source": [
        "<a href=\"https://colab.research.google.com/github/fereol023/ML-algorithms-on-ad-data/blob/Unsupervised/Unsupervised_PCA_on_advertisement_data.ipynb\" target=\"_parent\"><img src=\"https://colab.research.google.com/assets/colab-badge.svg\" alt=\"Open In Colab\"/></a>"
      ]
    },
    {
      "cell_type": "markdown",
      "source": [
        "Importation, décodage et lecture du dataset des images publicitaires depuis mon répertoire github (lien raw). "
      ],
      "metadata": {
        "id": "1NOMKacemGXg"
      }
    },
    {
      "cell_type": "code",
      "execution_count": null,
      "metadata": {
        "id": "ai2mOlerig4Y"
      },
      "outputs": [],
      "source": [
        "import pandas as pd\n",
        "import requests\n",
        "import io\n",
        "\n",
        "url = \"https://github.com/fereol023/ML-algorithms-on-ad-data/blob/main/ad_data.csv?raw=true\"\n",
        "download = requests.get(url).content\n",
        "df = pd.read_csv(io.StringIO(download.decode()), delimiter = \",\", index_col = None)\n",
        "\n",
        "print(df.head())\n",
        "df.shape\n",
        "\n",
        "target = \"class\"\n",
        "y = df.loc[:, target] \n",
        "X = df.loc[:, df.columns != target]"
      ]
    },
    {
      "cell_type": "code",
      "source": [
        "y"
      ],
      "metadata": {
        "colab": {
          "base_uri": "https://localhost:8080/"
        },
        "id": "6o_DnyE0D-ro",
        "outputId": "04a39482-40e5-47be-8b62-db943a71399e"
      },
      "execution_count": 95,
      "outputs": [
        {
          "output_type": "execute_result",
          "data": {
            "text/plain": [
              "array([0, 0, 0, ..., 1, 1, 1])"
            ]
          },
          "metadata": {},
          "execution_count": 95
        }
      ]
    },
    {
      "cell_type": "code",
      "source": [
        "import matplotlib.pyplot as plt"
      ],
      "metadata": {
        "id": "4i6TqWAkBxVW"
      },
      "execution_count": 99,
      "outputs": []
    },
    {
      "cell_type": "markdown",
      "source": [
        "Train test split, Normalisation"
      ],
      "metadata": {
        "id": "s_LBPaZKqLP4"
      }
    },
    {
      "cell_type": "code",
      "source": [
        "from sklearn.preprocessing import LabelEncoder\n",
        "from sklearn.preprocessing import StandardScaler\n",
        "from sklearn.model_selection import train_test_split\n",
        "\n",
        "# encodage\n",
        "encoder = LabelEncoder()\n",
        "y = encoder.fit_transform(y)\n",
        "print(y)\n",
        "\n",
        "# standardisation\n",
        "standardizer = StandardScaler()\n",
        "X = standardizer.fit_transform(X)\n",
        "print(X)\n",
        "\n",
        "X_train, X_test, y_train, y_test = train_test_split(X, y, train_size=8/10)"
      ],
      "metadata": {
        "colab": {
          "base_uri": "https://localhost:8080/"
        },
        "id": "Qj77qonlqPUo",
        "outputId": "280c10c1-b7f2-497c-9e44-93c5dd95707f"
      },
      "execution_count": 82,
      "outputs": [
        {
          "output_type": "stream",
          "name": "stdout",
          "text": [
            "[0 0 0 ... 1 1 1]\n",
            "[[ 1.4355604   0.09446502 -0.33658793 ... -0.11662434 -0.09927362\n",
            "  -0.0390792 ]\n",
            " [ 0.19374237  2.7200555   0.99231548 ... -0.11662434 -0.09927362\n",
            "  -0.0390792 ]\n",
            " [-0.24454635  0.89821721  0.76361619 ... -0.11662434 -0.09927362\n",
            "  -0.0390792 ]\n",
            " ...\n",
            " [-0.42716665  0.0561911   0.44066529 ... -0.11662434 -0.09927362\n",
            "  -0.0390792 ]\n",
            " [-0.84719333 -0.86238283 -0.52088908 ... -0.11662434 -0.09927362\n",
            "  -0.0390792 ]\n",
            " [-0.11671214 -0.55619152 -0.33658793 ... -0.11662434 -0.09927362\n",
            "  -0.0390792 ]]\n"
          ]
        }
      ]
    },
    {
      "cell_type": "markdown",
      "source": [
        "Pte 1 : apprentissage non supervisé : PCA"
      ],
      "metadata": {
        "id": "gTpmB3FwmruC"
      }
    },
    {
      "cell_type": "code",
      "source": [
        "from sklearn.decomposition import PCA\n",
        "\n",
        "classifier = PCA(n_components=3)\n",
        "composantes = classifier.fit_transform(X_train)\n",
        "\n",
        "print(composantes.shape)\n",
        "plt.scatter(composantes[:,0], composantes[:,1], c=y_train)"
      ],
      "metadata": {
        "colab": {
          "base_uri": "https://localhost:8080/",
          "height": 300
        },
        "id": "szITMxM6mAih",
        "outputId": "f9c0f0a1-a525-4d66-d035-561530fe3de9"
      },
      "execution_count": 83,
      "outputs": [
        {
          "output_type": "stream",
          "name": "stdout",
          "text": [
            "(2623, 3)\n"
          ]
        },
        {
          "output_type": "execute_result",
          "data": {
            "text/plain": [
              "<matplotlib.collections.PathCollection at 0x7f5b4f6f2490>"
            ]
          },
          "metadata": {},
          "execution_count": 83
        },
        {
          "output_type": "display_data",
          "data": {
            "text/plain": [
              "<Figure size 432x288 with 1 Axes>"
            ],
            "image/png": "[encoded data removed]"
          },
          "metadata": {
            "needs_background": "light"
          }
        }
      ]
    },
    {
      "cell_type": "code",
      "source": [
        "composantes"
      ],
      "metadata": {
        "colab": {
          "base_uri": "https://localhost:8080/"
        },
        "id": "q1k9k-6220fx",
        "outputId": "6c908eeb-a1cb-46a5-b3bc-f1bbcd7a06ff"
      },
      "execution_count": 84,
      "outputs": [
        {
          "output_type": "execute_result",
          "data": {
            "text/plain": [
              "array([[-0.81564868,  0.2448462 , -0.25067018],\n",
              "       [-1.02324997,  0.34914596, -0.53070332],\n",
              "       [-0.15626809, -0.17042184, -0.09194946],\n",
              "       ...,\n",
              "       [-0.63308113,  0.17828876, -0.14486606],\n",
              "       [-0.7739755 ,  0.18590001, -0.31321163],\n",
              "       [-0.78304063,  0.23029883, -0.2758463 ]])"
            ]
          },
          "metadata": {},
          "execution_count": 84
        }
      ]
    },
    {
      "cell_type": "markdown",
      "source": [
        "Pour la selection de variables ou la réduction de dimensions, on fait un PCA avec un nombre de composantes principales attendu égal au nombre de features de départ. "
      ],
      "metadata": {
        "id": "RjZVyBxD5S_k"
      }
    },
    {
      "cell_type": "markdown",
      "source": [
        "PCA : réduction de dimension : travailelr avec le nuage de variables "
      ],
      "metadata": {
        "id": "_Zg-hnXj3Pya"
      }
    },
    {
      "cell_type": "code",
      "source": [
        "classifier_var = PCA(n_components=1558) # nbre de features au départ\n",
        "X_reduced_var = classifier_var.fit_transform(X_train)"
      ],
      "metadata": {
        "id": "BJPjXFyF3N1F"
      },
      "execution_count": 85,
      "outputs": []
    },
    {
      "cell_type": "code",
      "source": [
        "import numpy as np\n",
        "# le cumul des variances par ordre croissant des axes importants\n",
        "np.cumsum(classifier_var.explained_variance_ratio_)\n",
        "\n",
        "# on va alors chercher l'index de la composante au niveau \n",
        "# duquel on se retrouve entre 95% et 99% de variance\n",
        "plt.plot(np.cumsum(classifier_var.explained_variance_ratio_))\n",
        "np.argmax(np.cumsum(classifier_var.explained_variance_ratio_)>0.99)"
      ],
      "metadata": {
        "colab": {
          "base_uri": "https://localhost:8080/",
          "height": 282
        },
        "id": "cKaWcjpg5lYE",
        "outputId": "948e6185-c026-497d-ecf8-cd4380b73da0"
      },
      "execution_count": 86,
      "outputs": [
        {
          "output_type": "execute_result",
          "data": {
            "text/plain": [
              "467"
            ]
          },
          "metadata": {},
          "execution_count": 86
        },
        {
          "output_type": "display_data",
          "data": {
            "text/plain": [
              "<Figure size 432x288 with 1 Axes>"
            ],
            "image/png": "[encoded data removed]"
          },
          "metadata": {
            "needs_background": "light"
          }
        }
      ]
    }
  ]
}